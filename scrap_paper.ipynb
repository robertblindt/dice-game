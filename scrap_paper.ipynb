{
 "cells": [
  {
   "cell_type": "code",
   "execution_count": 9,
   "id": "71ab4ed2-a667-4313-925b-e05102592c27",
   "metadata": {},
   "outputs": [
    {
     "data": {
      "text/plain": [
       "diceGame1 { limit: 10000 }"
      ]
     },
     "execution_count": 9,
     "metadata": {},
     "output_type": "execute_result"
    }
   ],
   "source": []
  },
  {
   "cell_type": "code",
   "execution_count": null,
   "id": "ca68df69-e2ab-469e-9d25-addeadc97c5a",
   "metadata": {},
   "outputs": [],
   "source": []
  },
  {
   "cell_type": "code",
   "execution_count": 14,
   "id": "d8afcb12-a49a-410f-88c8-57fed0b05d91",
   "metadata": {},
   "outputs": [
    {
     "data": {
      "text/plain": [
       "6"
      ]
     },
     "execution_count": 14,
     "metadata": {},
     "output_type": "execute_result"
    }
   ],
   "source": [
    "let getRandomNumber3 = () =>Math.floor(Math.random() * 6) + 1;\n",
    "// let hand = \n",
    "var turn_roll = []\n",
    "for (i = 0; cond = i < 6; i++){\n",
    "    turn_roll.unshift(getRandomNumber())\n",
    "}"
   ]
  },
  {
   "cell_type": "code",
   "execution_count": 15,
   "id": "0942c94c-fba2-44a3-9137-48f700001cfa",
   "metadata": {},
   "outputs": [
    {
     "data": {
      "text/plain": [
       "[ 5, 3, 3, 1, 3, 3 ]"
      ]
     },
     "execution_count": 15,
     "metadata": {},
     "output_type": "execute_result"
    }
   ],
   "source": [
    "turn_roll"
   ]
  },
  {
   "cell_type": "code",
   "execution_count": 4,
   "id": "a69fa697-e5f7-45a7-ab62-705eb6250c51",
   "metadata": {},
   "outputs": [],
   "source": [
    "let getRandomNumber = () =>Math.floor(Math.random() * 6) + 1;"
   ]
  },
  {
   "cell_type": "code",
   "execution_count": 48,
   "id": "6e6e9365-4cb5-45c3-80f9-14a6a366df00",
   "metadata": {},
   "outputs": [],
   "source": [
    "class diceGame{\n",
    "    constructor(){\n",
    "        this.limit = 10000\n",
    "        this.roundScore = 0\n",
    "        this.playerTotal = 0\n",
    "    }\n",
    "    \n",
    "    scoreRound(turn_roll){\n",
    "        turn_roll.sort()\n",
    "        this.roundScore = 0\n",
    "        let similarContainer = []\n",
    "        console.log(turn_roll)\n",
    "        if (turn_roll === [1,2,3,4,5,6]){\n",
    "            this.roundScore += 1500\n",
    "            console.log('You got 1500 points!')\n",
    "        } else {\n",
    "            for (let die of turn_roll){\n",
    "                if (die < 6){\n",
    "                    if (similarContainer.length == 0){\n",
    "                        similarContainer.unshift(die)\n",
    "                    } else if (similarContainer[0] == die){\n",
    "                        similarContainer.unshift(die)\n",
    "                        if (similarContainer.length == 3){\n",
    "                            this.roundScore  += similarContainer[0] * 100\n",
    "                            similarContainer = []\n",
    "                            }\n",
    "                    } else {\n",
    "                        console.log(similarContainer)\n",
    "                        if (similarContainer[0] == 5){\n",
    "                            for (let num of similarContainer){\n",
    "                                this.roundScore += num*10\n",
    "                        }\n",
    "                        } else if (similarContainer[0] == 1){\n",
    "                            for (let num of similarContainer){\n",
    "                                this.roundScore += num*100\n",
    "                        }\n",
    "                        }\n",
    "                        similarContainer = []\n",
    "                        similarContainer.unshift(die)\n",
    "                    }\n",
    "                } else {\n",
    "                    if (similarContainer[0] == 1 || similarContainer[0] == 5){\n",
    "                        for (let num of similarContainer){\n",
    "                            this.roundScore += num*10\n",
    "                    }\n",
    "                    }\n",
    "                    similarContainer = []\n",
    "                }   \n",
    "            }\n",
    "            console.log(similarContainer) \n",
    "            if (similarContainer[0] == 1 || similarContainer[0] == 5){\n",
    "                for (let num of similarContainer){\n",
    "                    this.roundScore += num*10\n",
    "            }\n",
    "            }\n",
    "            }\n",
    "        console.log(this.roundScore)\n",
    "        this.playerTotal += this.roundScore\n",
    "        console.log(this.playerTotal)\n",
    "        }  \n",
    "    \n",
    "    displayRoll(){\n",
    "        \n",
    "    }\n",
    "\n",
    "    \n",
    "    roll(){\n",
    "        let turn_roll = []\n",
    "        let getRandomNumber = () => Math.floor(Math.random() * 6) + 1;\n",
    "        for (let i = 0; i < 6; i++){\n",
    "            turn_roll.unshift(getRandomNumber())\n",
    "        }\n",
    "        this.scoreRound(turn_roll)\n",
    "    }\n",
    "}"
   ]
  },
  {
   "cell_type": "code",
   "execution_count": 49,
   "id": "ca158e3b-07ef-4983-affc-0f1befc4ddcf",
   "metadata": {},
   "outputs": [],
   "source": [
    "var game = new diceGame13()"
   ]
  },
  {
   "cell_type": "code",
   "execution_count": 63,
   "id": "244a315c-97dd-4abd-8e1c-bc2cb81b246a",
   "metadata": {},
   "outputs": [
    {
     "name": "stdout",
     "output_type": "stream",
     "text": [
      "[ 1, 1, 2, 2, 2, 3 ]\n",
      "[ 1, 1 ]\n",
      "[ 3 ]\n",
      "400\n",
      "2850\n"
     ]
    }
   ],
   "source": [
    "game.roll()"
   ]
  },
  {
   "cell_type": "code",
   "execution_count": null,
   "id": "404e6fa8-3eaa-4f9b-8a62-b7ddae1d73a4",
   "metadata": {},
   "outputs": [],
   "source": []
  }
 ],
 "metadata": {
  "kernelspec": {
   "display_name": "JavaScript (Node.js)",
   "language": "javascript",
   "name": "javascript"
  },
  "language_info": {
   "file_extension": ".js",
   "mimetype": "application/javascript",
   "name": "javascript",
   "version": "18.17.1"
  }
 },
 "nbformat": 4,
 "nbformat_minor": 5
}
